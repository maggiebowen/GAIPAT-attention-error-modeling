{
 "cells": [
  {
   "cell_type": "markdown",
   "id": "978af43d",
   "metadata": {},
   "source": [
    "So I initially started with this draft and decided to leave the copy here. I attempted to calculate screen AOIs to understand if participants were distracted based on their gaze entropy. The key issue with this is that right now the code assumes when the gaze is off the screen AOI (and on the table assembling) it means the participant is distracted. Because we don't have the precise table AOIs, this makes it a bit harder to understand how to interpret gaze entropy as distracted or not. I'm saving this with the hopes that in the future I can train the model more precisely to calculate gaze source (ie high entropy + lots of screen gaze = confusion; high entropy + table gaze = exploration). In our study we should bear in mind that we need to have a ground truth for table AOIs"
   ]
  },
  {
   "cell_type": "code",
   "execution_count": 1,
   "id": "36ab5a30",
   "metadata": {},
   "outputs": [
    {
     "name": "stdout",
     "output_type": "stream",
     "text": [
      "[INFO] Testing participant: 87891249\n",
      "[INFO] Testing figure: sc\n",
      "[SUCCESS] Loaded screen gaze: (4525, 3)\n",
      "[SUCCESS] Loaded table gaze: (3432, 3)\n",
      "[INFO] Screen columns: ['timestamp', 'x', 'y']\n",
      "[INFO] Table columns: ['timestamp', 'x', 'y']\n"
     ]
    }
   ],
   "source": [
    "import os\n",
    "import pandas as pd\n",
    "import numpy as np\n",
    "import matplotlib.pyplot as plt\n",
    "from scipy.stats import entropy\n",
    "from shapely.geometry import Polygon, Point\n",
    "\n",
    "base_dir = 'gaipat_data/participants'\n",
    "\n",
    "# list of all participant folders\n",
    "participants = [d for d in os.listdir(base_dir) if os.path.isdir(os.path.join(base_dir, d))]\n",
    "\n",
    "# one participant to test\n",
    "participant_id = participants[0] if participants else None\n",
    "\n",
    "# made if in case things don't load correctly, could refactor later\n",
    "if participant_id:\n",
    "    print(f\"[INFO] Testing participant: {participant_id}\")\n",
    "    \n",
    "    # each participant has figure subfolders: car, house, sc, tb, tc, tsb\n",
    "    participant_path = os.path.join(base_dir, participant_id)\n",
    "    figure_names = [d for d in os.listdir(participant_path) if os.path.isdir(os.path.join(participant_path, d))]\n",
    "    \n",
    "    if figure_names:\n",
    "        figure_name = figure_names[0]  # just pick the first figure for testing\n",
    "        print(f\"[INFO] Testing figure: {figure_name}\")\n",
    "        \n",
    "        # build file paths\n",
    "        screen_path = os.path.join(participant_path, figure_name, 'screen', 'gazepoints.csv')\n",
    "        table_path = os.path.join(participant_path, figure_name, 'table', 'gazepoints.csv')\n",
    "        \n",
    "        if not os.path.exists(screen_path):\n",
    "            print(f\"[ERROR] Missing screen gaze file: {screen_path}\")\n",
    "        elif not os.path.exists(table_path):\n",
    "            print(f\"[ERROR] Missing table gaze file: {table_path}\")\n",
    "        else:\n",
    "            # Load and display shape + column info\n",
    "            df_screen = pd.read_csv(screen_path)\n",
    "            df_table = pd.read_csv(table_path)\n",
    "            \n",
    "            print(f\"[SUCCESS] Loaded screen gaze: {df_screen.shape}\")\n",
    "            print(f\"[SUCCESS] Loaded table gaze: {df_table.shape}\")\n",
    "            print(f\"[INFO] Screen columns: {df_screen.columns.tolist()}\")\n",
    "            print(f\"[INFO] Table columns: {df_table.columns.tolist()}\")\n",
    "    else:\n",
    "        print(f\"[ERROR] No figure folders found for {participant_id}\")\n",
    "else:\n",
    "    print(\"[ERROR] No participant folders found.\")\n"
   ]
  },
  {
   "cell_type": "code",
   "execution_count": 2,
   "id": "d674ea1d",
   "metadata": {},
   "outputs": [],
   "source": [
    "def merge_preprocess_gaze(df_screen, df_table):\n",
    "    \"\"\"\n",
    "    Merges and preprocesses gaze data from screen and table into a single dataframe.\n",
    "    - add source column\n",
    "    - drop NaN\n",
    "    - convert to seconds\n",
    "    - sort by timestamp\n",
    "    \"\"\"\n",
    "\n",
    "    # assign source labels\n",
    "    df_screen['source'] = 'screen'\n",
    "    df_table['source'] = 'table'\n",
    "\n",
    "    # drop NaN, specifying columns in abundance of caution\n",
    "    df_screen = df_screen.dropna(subset=['x', 'y', 'timestamp'])\n",
    "    df_table = df_table.dropna(subset=['x', 'y', 'timestamp'])\n",
    "\n",
    "    # merge dataframes\n",
    "    df = pd.concat([df_screen, df_table], ignore_index=True)\n",
    "\n",
    "    # sort by timestamp\n",
    "    df = df.sort_values('timestamp').reset_index(drop=True)\n",
    "\n",
    "    return df\n",
    "\n",
    "df_merged = merge_preprocess_gaze(df_screen, df_table)"
   ]
  },
  {
   "cell_type": "markdown",
   "id": "ce80884a",
   "metadata": {},
   "source": [
    "Reusable functions to calculate gaze entropy and gaze entropy over time"
   ]
  },
  {
   "cell_type": "code",
   "execution_count": 3,
   "id": "0aba269f",
   "metadata": {},
   "outputs": [
    {
     "name": "stdout",
     "output_type": "stream",
     "text": [
      "      start_time       end_time   entropy\n",
      "0  1706261126399  1706261128399  3.489089\n",
      "1  1706261126899  1706261128899  3.360848\n",
      "2  1706261127399  1706261129399  2.654981\n",
      "3  1706261127899  1706261129899  2.052651\n",
      "4  1706261128399  1706261130399  2.584189\n"
     ]
    }
   ],
   "source": [
    "def calc_gaze_entropy(xy_points, bins=10):\n",
    "    \"\"\"\n",
    "    Calculate spatial entropy of gaze data.\n",
    "    Shannon entropy quantifies how unpredictable the location of a point is based on its x and y values\n",
    "\n",
    "    Parameters:\n",
    "        xy_points (np.ndarray): 2D array of shape (N, 2) for gaze coordinates\n",
    "        bins (int): number of bins per axis for histogram\n",
    "    Returns:\n",
    "        float: Shannon entropy in bits\n",
    "    \"\"\"\n",
    "    if xy_points.shape[0] < 2:\n",
    "        return np.nan  # when there's not enough data to compute entropy\n",
    "\n",
    "    # 2D histogram over gaze space\n",
    "    H, _, _ = np.histogram2d(xy_points[:, 0], xy_points[:, 1], bins=bins)\n",
    "\n",
    "    # Flatten and normalize to get probabilities\n",
    "    p = H.flatten() / np.sum(H)\n",
    "    # remove zero bins to avoid log(0)\n",
    "    p = p[p > 0]  \n",
    "\n",
    "    # compute Shannon entropy in bits\n",
    "    return entropy(p, base=2)\n",
    "\n",
    "# calculating entropy in 2 second chunks (2000 ms) with 500 ms steps\n",
    "def compute_entropy_over_time(df, window_size=2000, step_size=500, bins=10):\n",
    "    \"\"\"\n",
    "    Slides a time window over gaze data and computes spatial entropy per window.\n",
    "    Returns a DataFrame with: start_time, end_time, entropy\n",
    "    helps understand how gaze patterns change over time\n",
    "    \"\"\"\n",
    "    results = []\n",
    "    start_time = df['timestamp'].min()\n",
    "    end_time = df['timestamp'].max()\n",
    "    current = start_time\n",
    "\n",
    "    while current + window_size <= end_time:\n",
    "        window = df[(df['timestamp'] >= current) & (df['timestamp'] < current + window_size)]\n",
    "        if len(window) >= 2:\n",
    "            xy = window[['x', 'y']].to_numpy()\n",
    "            ent = calc_gaze_entropy(xy, bins=bins)\n",
    "            results.append({\n",
    "                'start_time': current,\n",
    "                'end_time': current + window_size,\n",
    "                'entropy': ent\n",
    "            })\n",
    "        current += step_size\n",
    "\n",
    "    return pd.DataFrame(results)\n",
    "\n",
    "entropy_df = compute_entropy_over_time(df_merged)\n",
    "\n",
    "# check it worked\n",
    "print(entropy_df.head())"
   ]
  },
  {
   "cell_type": "markdown",
   "id": "c7441707",
   "metadata": {},
   "source": [
    "Setting thresholds, 3 distraction levels (could make it more in the future if we have more physiological signals)"
   ]
  },
  {
   "cell_type": "code",
   "execution_count": 4,
   "id": "62707fae",
   "metadata": {},
   "outputs": [
    {
     "name": "stdout",
     "output_type": "stream",
     "text": [
      "      start_time       end_time   entropy  distraction_level\n",
      "0  1706261126399  1706261128399  3.489089                  2\n",
      "1  1706261126899  1706261128899  3.360848                  1\n",
      "2  1706261127399  1706261129399  2.654981                  0\n",
      "3  1706261127899  1706261129899  2.052651                  0\n",
      "4  1706261128399  1706261130399  2.584189                  0\n"
     ]
    }
   ],
   "source": [
    "# split into quartiles, we want 3 attention categories: low, medium, high\n",
    "thresholds = entropy_df['entropy'].quantile([1/3, 2/3]).values\n",
    "\n",
    "# Bin entropy values into distraction levels\n",
    "entropy_df['distraction_level'] = pd.cut(\n",
    "    entropy_df['entropy'],\n",
    "    bins=[-np.inf, thresholds[0], thresholds[1], np.inf],\n",
    "    labels=[0, 1, 2],\n",
    "    include_lowest=True\n",
    ").astype(int)\n",
    "\n",
    "# check if it worked\n",
    "print(entropy_df.head())"
   ]
  },
  {
   "cell_type": "markdown",
   "id": "d5c0fa13",
   "metadata": {},
   "source": [
    "Helper functions for AOI & gaze-tagging"
   ]
  },
  {
   "cell_type": "code",
   "execution_count": 12,
   "id": "95a4584b",
   "metadata": {},
   "outputs": [
    {
     "data": {
      "text/plain": [
       "{'released': <POLYGON ((0.396 0.436, 0.538 0.436, 0.538 0.8, 0.396 0.8, 0.396 0.436))>,\n",
       " 'title': <POLYGON ((0 0, 1 0, 1 0.181, 0 0.181, 0 0))>}"
      ]
     },
     "execution_count": 12,
     "metadata": {},
     "output_type": "execute_result"
    }
   ],
   "source": [
    "# to get Areas of Interest (AOIs) from slides_{figure}.csv --> tell us slide number, title, block, destination, figure, and arrow\n",
    "def extract_slide_aois(slides_df, aoi_names=None):\n",
    "    \"\"\"\n",
    "    Extract AOIs from slides_{figure}.csv as Shapely polygons.\n",
    "    Returns a dictionary: {slide_id: {aoi_name: Polygon}}\n",
    "    \"\"\"\n",
    "    if aoi_names is None:\n",
    "        aoi_names = sorted(set(col.split('_')[0] for col in slides_df.columns if '_x0' in col))\n",
    "\n",
    "    slide_aois = {}\n",
    "\n",
    "    for _, row in slides_df.iterrows():\n",
    "        slide_id = int(row['id'])\n",
    "        slide_aois[slide_id] = {}\n",
    "\n",
    "        for name in aoi_names:\n",
    "            try:\n",
    "                coords = [\n",
    "                    (float(row[f'{name}_x0']), float(row[f'{name}_y0'])),\n",
    "                    (float(row[f'{name}_x1']), float(row[f'{name}_y1'])),\n",
    "                    (float(row[f'{name}_x2']), float(row[f'{name}_y2'])),\n",
    "                    (float(row[f'{name}_x3']), float(row[f'{name}_y3']))\n",
    "                ]\n",
    "                # Check for NaNs or infinities\n",
    "                if not np.all(np.isfinite(coords)):\n",
    "                    continue\n",
    "\n",
    "                coords.append(coords[0])  # close the polygon\n",
    "                poly = Polygon(coords)\n",
    "\n",
    "                if poly.is_valid and not poly.is_empty:\n",
    "                    slide_aois[slide_id][name] = poly\n",
    "\n",
    "            except (KeyError, TypeError, ValueError):\n",
    "                continue  # skip invalid AOIs\n",
    "\n",
    "    return slide_aois\n",
    "\n",
    "\n",
    "# test if it works\n",
    "slides_tb = pd.read_csv(\"gaipat_data/setup/slides_house.csv\")\n",
    "slide_aois = extract_slide_aois(slides_tb)\n",
    "\n",
    "# Inspect AOIs for slide 0\n",
    "slide_aois[0]\n"
   ]
  },
  {
   "cell_type": "code",
   "execution_count": 13,
   "id": "7d521ecf",
   "metadata": {},
   "outputs": [
    {
     "name": "stdout",
     "output_type": "stream",
     "text": [
      "       timestamp   x   y  source  slide  on_target\n",
      "0  1706261126399 NaN NaN  screen      9      False\n",
      "1  1706261126410 NaN NaN  screen      9      False\n",
      "2  1706261126420 NaN NaN  screen      9      False\n",
      "3  1706261126432 NaN NaN  screen      9      False\n",
      "4  1706261126443 NaN NaN  screen      9      False\n"
     ]
    }
   ],
   "source": [
    "def tag_on_target_gaze(df_screen, screen_states, slide_aois):\n",
    "    \"\"\"\n",
    "    Tags each gaze point as on-target if it falls inside any AOI polygon.\n",
    "    Requires: slide_aois = {slide_id: {aoi_name: Polygon}}\n",
    "    Returns: df_screen with 'on_target' column\n",
    "    \"\"\"\n",
    "\n",
    "    # Merge slide ID into gaze data using timestamp\n",
    "    df = pd.merge_asof(\n",
    "        df_screen.sort_values('timestamp'),\n",
    "        screen_states.sort_values('timestamp'),\n",
    "        on='timestamp',\n",
    "        direction='backward'\n",
    "    )\n",
    "\n",
    "    def is_on_target(row):\n",
    "        slide_id = row['slide']\n",
    "        if slide_id not in slide_aois:\n",
    "            return False\n",
    "        point = Point(row['x'], row['y'])\n",
    "        for poly in slide_aois[slide_id].values():\n",
    "            if poly.contains(point):\n",
    "                return True\n",
    "        return False\n",
    "\n",
    "    df['on_target'] = df.apply(is_on_target, axis=1)\n",
    "    return df\n",
    "\n",
    "# example to test it works\n",
    "screen_states = pd.read_csv(\"gaipat_data/participants/5530740/house/screen/states.csv\")\n",
    "df_screen_tagged = tag_on_target_gaze(df_screen, screen_states, slide_aois)\n",
    "\n",
    "print(df_screen_tagged.head())  "
   ]
  },
  {
   "cell_type": "markdown",
   "id": "b60f83b5",
   "metadata": {},
   "source": [
    "Calculate on target ratio: for each entropy window (e.g. 2 seconds), how much of the gaze was on-target (inside the AOIs defined for that task slide.)"
   ]
  },
  {
   "cell_type": "code",
   "execution_count": null,
   "id": "90a04d83",
   "metadata": {},
   "outputs": [
    {
     "name": "stdout",
     "output_type": "stream",
     "text": [
      "[DEBUG] Entropy time range: 1706261126399 → 1706261181899\n",
      "[DEBUG] Gaze time range: 1706261126399 → 1706261182072\n",
      "on_target\n",
      "False    3543\n",
      "True      982\n",
      "Name: count, dtype: int64\n",
      "Slide AOI keys (from slides_*.csv): [0, 1, 2, 3, 4, 5, 6, 7, 8, 9]\n",
      "Slide IDs in tagged gaze: [9]\n",
      "      start_time       end_time   entropy  distraction_level  on_target_ratio\n",
      "0  1706261126399  1706261128399  3.489089                  2         0.524390\n",
      "1  1706261126899  1706261128899  3.360848                  1         0.530864\n",
      "2  1706261127399  1706261129399  2.654981                  0         0.447205\n",
      "3  1706261127899  1706261129899  2.052651                  0         0.443750\n",
      "4  1706261128399  1706261130399  2.584189                  0         0.500000\n",
      "Index(['start_time', 'end_time', 'entropy', 'distraction_level',\n",
      "       'on_target_ratio'],\n",
      "      dtype='object')\n"
     ]
    }
   ],
   "source": [
    "def compute_on_target_ratio(entropy_df, df_screen_tagged):\n",
    "    \"\"\"\n",
    "    Add on-target gaze ratio to each entropy window.\n",
    "    \n",
    "    Parameters:\n",
    "        entropy_df: DataFrame with ['start_time', 'end_time', ...]\n",
    "        df_screen_tagged: screen gaze points with ['timestamp', 'on_target']\n",
    "\n",
    "    Returns:\n",
    "        entropy_df with added 'on_target_ratio' column\n",
    "    \"\"\"\n",
    "    ratios = []\n",
    "    for _, row in entropy_df.iterrows():\n",
    "        start, end = row['start_time'], row['end_time']\n",
    "        window = df_screen_tagged[\n",
    "            (df_screen_tagged['timestamp'] >= start) &\n",
    "            (df_screen_tagged['timestamp'] < end)\n",
    "        ]\n",
    "\n",
    "        if len(window) == 0:\n",
    "            ratios.append(np.nan)\n",
    "        else:\n",
    "            ratio = window['on_target'].sum() / len(window)\n",
    "            ratios.append(ratio)\n",
    "\n",
    "    entropy_df['on_target_ratio'] = ratios\n",
    "    return entropy_df\n",
    "\n",
    "# check if it works\n",
    "print(\"[DEBUG] Entropy time range:\", entropy_df['start_time'].min(), \"→\", entropy_df['end_time'].max())\n",
    "print(\"[DEBUG] Gaze time range:\", df_screen_tagged['timestamp'].min(), \"→\", df_screen_tagged['timestamp'].max())\n",
    "\n",
    "print(df_screen_tagged['on_target'].value_counts(dropna=False))\n",
    "\n",
    "print(\"Slide AOI keys (from slides_*.csv):\", list(slide_aois.keys())[:10])\n",
    "print(\"Slide IDs in tagged gaze:\", df_screen_tagged['slide'].dropna().unique())\n",
    "\n",
    "\n",
    "entropy_df = compute_on_target_ratio(entropy_df, df_screen_tagged)\n",
    "\n",
    "# check to see it worked, should have diff distraction levels\n",
    "print(entropy_df.head())\n",
    "print(entropy_df.columns)"
   ]
  },
  {
   "cell_type": "markdown",
   "id": "9c7898d1",
   "metadata": {},
   "source": [
    "Note to self for later to improve model performance:\n",
    "- add pupil info for better means of interpreting cognitive state via pupil dilation\n",
    "- add AOIs for both screen and table (need to calculate from slides provided)\n",
    "- Add events.csv logic to: Track task steps, extract errors or redundant actions, add task_phase, action_count, or task_efficiency features"
   ]
  }
 ],
 "metadata": {
  "kernelspec": {
   "display_name": ".venv",
   "language": "python",
   "name": "python3"
  },
  "language_info": {
   "codemirror_mode": {
    "name": "ipython",
    "version": 3
   },
   "file_extension": ".py",
   "mimetype": "text/x-python",
   "name": "python",
   "nbconvert_exporter": "python",
   "pygments_lexer": "ipython3",
   "version": "3.13.2"
  }
 },
 "nbformat": 4,
 "nbformat_minor": 5
}
